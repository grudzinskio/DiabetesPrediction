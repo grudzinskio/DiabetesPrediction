{
 "cells": [
  {
   "metadata": {},
   "cell_type": "markdown",
   "source": "# Diabetes Prediction CSC 2621 Final Project\n",
   "id": "b029dee6c2dd0818"
  },
  {
   "metadata": {},
   "cell_type": "markdown",
   "source": [
    "### Group Members:\n",
    "###### Oliver Grudzinski\n",
    "###### Pranaav Paladugu\n",
    "###### Alec Weinbender"
   ],
   "id": "cf0b69a81270bf49"
  },
  {
   "metadata": {},
   "cell_type": "markdown",
   "source": "## Research Question",
   "id": "acd7e40eb3b5c3ff"
  },
  {
   "metadata": {},
   "cell_type": "markdown",
   "source": "With this project, we are attempting to see whether we can diagnostically predict whether or not a patient has diabetes, based on the data given to us in the dataset.",
   "id": "e7fcba7c18e1424b"
  },
  {
   "metadata": {},
   "cell_type": "markdown",
   "source": "## Hypotheses",
   "id": "64c9d9647af8d8b8"
  },
  {
   "metadata": {},
   "cell_type": "markdown",
   "source": "#### Hypotheses Statements:",
   "id": "a8d14c9dfe9c2fc3"
  },
  {
   "metadata": {},
   "cell_type": "markdown",
   "source": [
    "Null Hypothesis Example - A given variable does not influence whether a patient may have diabetes.\n",
    "\n",
    "Alternative Hypothesis Example - A given variable does influence whether a patient may have diabetes.\n",
    "\n",
    "Examples:\n",
    "\n",
    "H0 (Glucose) – Glucose levels do not influence whether a patient may have diabetes.\n",
    "HA (Glucose) – Glucose levels do have an influence on whether a patient may have diabetes.\n",
    "\n",
    "H0 (BMI) – The patient’s BMI does not influence whether a patient may have diabetes.\n",
    "HA (BMI) – The patient’s BMI does influence on whether a patient may have diabetes.\n",
    "\n",
    "H0 (Age) – The patient’s age does not influence whether a patient may have diabetes.\n",
    "HA (Age) – The patient’s age does influence on whether a patient may have diabetes.\n",
    "\n",
    "H0 (Diabetes Pedigree Function) – The patient’s DPF levels do not influence whether a patient may have diabetes.\n",
    "HA (Diabetes Pedigree Function) – The patient’s DPF levels do have an influence on whether a patient may have diabetes."
   ],
   "id": "3b0ba391cb91e0e6"
  },
  {
   "metadata": {},
   "cell_type": "code",
   "outputs": [
    {
     "name": "stderr",
     "output_type": "stream",
     "text": [
      "C:\\Users\\paladugup\\AppData\\Local\\Temp\\ipykernel_8560\\759480337.py:26: DeprecationWarning: Please import `kruskal` from the `scipy.stats` namespace; the `scipy.stats.stats` namespace is deprecated and will be removed in SciPy 2.0.0.\n",
      "  kstat, Kp = stats.kruskal(*samples_by_group)\n"
     ]
    },
    {
     "data": {
      "text/plain": [
       "                   Variable      T-stat       P-value  Correction\n",
       "1                   Glucose  269.382027  5.586210e-11        True\n",
       "7                       Age  140.754007  2.450833e-10        True\n",
       "0               Pregnancies   64.510701  8.940856e-08        True\n",
       "3             SkinThickness   73.467109  1.699207e-02       False\n",
       "4                   Insulin  227.473254  1.818808e-02       False\n",
       "5                       BMI  286.097245  4.422738e-02       False\n",
       "2             BloodPressure   54.862435  1.738525e-01       False\n",
       "6  DiabetesPedigreeFunction  532.330054  3.002203e-01       False"
      ],
      "text/html": [
       "<div>\n",
       "<style scoped>\n",
       "    .dataframe tbody tr th:only-of-type {\n",
       "        vertical-align: middle;\n",
       "    }\n",
       "\n",
       "    .dataframe tbody tr th {\n",
       "        vertical-align: top;\n",
       "    }\n",
       "\n",
       "    .dataframe thead th {\n",
       "        text-align: right;\n",
       "    }\n",
       "</style>\n",
       "<table border=\"1\" class=\"dataframe\">\n",
       "  <thead>\n",
       "    <tr style=\"text-align: right;\">\n",
       "      <th></th>\n",
       "      <th>Variable</th>\n",
       "      <th>T-stat</th>\n",
       "      <th>P-value</th>\n",
       "      <th>Correction</th>\n",
       "    </tr>\n",
       "  </thead>\n",
       "  <tbody>\n",
       "    <tr>\n",
       "      <th>1</th>\n",
       "      <td>Glucose</td>\n",
       "      <td>269.382027</td>\n",
       "      <td>5.586210e-11</td>\n",
       "      <td>True</td>\n",
       "    </tr>\n",
       "    <tr>\n",
       "      <th>7</th>\n",
       "      <td>Age</td>\n",
       "      <td>140.754007</td>\n",
       "      <td>2.450833e-10</td>\n",
       "      <td>True</td>\n",
       "    </tr>\n",
       "    <tr>\n",
       "      <th>0</th>\n",
       "      <td>Pregnancies</td>\n",
       "      <td>64.510701</td>\n",
       "      <td>8.940856e-08</td>\n",
       "      <td>True</td>\n",
       "    </tr>\n",
       "    <tr>\n",
       "      <th>3</th>\n",
       "      <td>SkinThickness</td>\n",
       "      <td>73.467109</td>\n",
       "      <td>1.699207e-02</td>\n",
       "      <td>False</td>\n",
       "    </tr>\n",
       "    <tr>\n",
       "      <th>4</th>\n",
       "      <td>Insulin</td>\n",
       "      <td>227.473254</td>\n",
       "      <td>1.818808e-02</td>\n",
       "      <td>False</td>\n",
       "    </tr>\n",
       "    <tr>\n",
       "      <th>5</th>\n",
       "      <td>BMI</td>\n",
       "      <td>286.097245</td>\n",
       "      <td>4.422738e-02</td>\n",
       "      <td>False</td>\n",
       "    </tr>\n",
       "    <tr>\n",
       "      <th>2</th>\n",
       "      <td>BloodPressure</td>\n",
       "      <td>54.862435</td>\n",
       "      <td>1.738525e-01</td>\n",
       "      <td>False</td>\n",
       "    </tr>\n",
       "    <tr>\n",
       "      <th>6</th>\n",
       "      <td>DiabetesPedigreeFunction</td>\n",
       "      <td>532.330054</td>\n",
       "      <td>3.002203e-01</td>\n",
       "      <td>False</td>\n",
       "    </tr>\n",
       "  </tbody>\n",
       "</table>\n",
       "</div>"
      ]
     },
     "execution_count": 1,
     "metadata": {},
     "output_type": "execute_result"
    }
   ],
   "execution_count": 1,
   "source": [
    "from scipy.stats import stats\n",
    "import numpy as np\n",
    "import pandas as pd\n",
    "from pandas.api.types import is_numeric_dtype\n",
    "from pandas.api.types import is_string_dtype\n",
    "\n",
    "df = pd.read_csv(\"data/diabetes.csv\")\n",
    "\n",
    "Outcome = df[\"Outcome\"]\n",
    "\n",
    "columns_list = [\"Pregnancies\", \"Glucose\", \"BloodPressure\", \"SkinThickness\",\"Insulin\", \"BMI\", \"DiabetesPedigreeFunction\", \"Age\"]\n",
    "Correction = True\n",
    "length3 = len(df)\n",
    "count = 0\n",
    "threshold = (0.05)/8\n",
    "ColumnsLength = len(df.columns)\n",
    "Dict = {}\n",
    "var = []\n",
    "pval = []\n",
    "Dict = {\"Variable\":[], \"T-stat\": [], \"P-value\": [], \"Correction\":[]}\n",
    "for variable in columns_list:\n",
    "        samples_by_group = []\n",
    "        for value in set(df[variable]):\n",
    "            mask = df[variable] == value\n",
    "            samples_by_group.append(df['Outcome'][mask])\n",
    "        kstat, Kp = stats.kruskal(*samples_by_group)\n",
    "        if(Kp < ((threshold)/length3)):\n",
    "            Correction = True\n",
    "        elif(Kp > ((threshold)/length3)):\n",
    "            Correction = False\n",
    "        Dict[\"T-stat\"].append(kstat)\n",
    "        Dict[\"P-value\"].append(Kp)\n",
    "        pval.append(Kp)\n",
    "        var.append(variable)\n",
    "        Dict[\"Correction\"].append(Correction)\n",
    "        Dict[\"Variable\"].append(variable)\n",
    "\n",
    "table = pd.DataFrame(Dict)\n",
    "\n",
    "sorted_df = table.sort_values(by=['P-value'], ascending=True)\n",
    "\n",
    "sorted_df.head(10)"
   ],
   "id": "3c3f4fa669d0d7ba"
  },
  {
   "metadata": {},
   "cell_type": "markdown",
   "source": "## Dataset",
   "id": "54fc75af4b71614"
  },
  {
   "metadata": {},
   "cell_type": "markdown",
   "source": "#### Explanation of the Dataset:",
   "id": "40472073441e5957"
  },
  {
   "metadata": {},
   "cell_type": "markdown",
   "source": "This dataset was created to do what we are doing, which is to diagnostically predict whether or not a patient has diabetes. All of the data in this dataset is taken from female patients that are at least 21 years old and of Pima Indian heritage.",
   "id": "5aa9362df6559fe4"
  },
  {
   "metadata": {},
   "cell_type": "markdown",
   "source": [
    "#### Description of Features:\n",
    "Pregnancies: Number of times pregnant\n",
    "\n",
    "Glucose: Plasma glucose concentration a 2 hours in an oral glucose tolerance test\n",
    "\n",
    "Blood Pressure: Diastolic blood pressure (mm Hg)\n",
    "\n",
    "Skin Thickness: Triceps skin fold thickness (mm)\n",
    "\n",
    "Insulin: 2-Hour serum insulin (mu U/ml)\n",
    "\n",
    "BMI: Body mass index (weight in kg/(height in m)^2)\n",
    "\n",
    "Diabetes Pedigree Function: Diabetes pedigree function\n",
    "\n",
    "Age: patient's (years)"
   ],
   "id": "72a8473f5579e232"
  },
  {
   "metadata": {},
   "cell_type": "markdown",
   "source": [
    "#### Target Variable:\n",
    "The target variable is Outcomes:\n",
    "\n",
    "Class variable (0 or 1) 268 of 768 are 1, the others are 0"
   ],
   "id": "f2534c4d34b3024a"
  },
  {
   "metadata": {},
   "cell_type": "markdown",
   "source": "",
   "id": "84de232416e82ff9"
  },
  {
   "metadata": {},
   "cell_type": "code",
   "outputs": [
    {
     "data": {
      "text/plain": [
       "   Pregnancies  Glucose  BloodPressure  SkinThickness  Insulin   BMI  \\\n",
       "0            6      148             72             35        0  33.6   \n",
       "1            1       85             66             29        0  26.6   \n",
       "2            8      183             64              0        0  23.3   \n",
       "3            1       89             66             23       94  28.1   \n",
       "4            0      137             40             35      168  43.1   \n",
       "\n",
       "   DiabetesPedigreeFunction  Age  Outcome  \n",
       "0                     0.627   50        1  \n",
       "1                     0.351   31        0  \n",
       "2                     0.672   32        1  \n",
       "3                     0.167   21        0  \n",
       "4                     2.288   33        1  "
      ],
      "text/html": [
       "<div>\n",
       "<style scoped>\n",
       "    .dataframe tbody tr th:only-of-type {\n",
       "        vertical-align: middle;\n",
       "    }\n",
       "\n",
       "    .dataframe tbody tr th {\n",
       "        vertical-align: top;\n",
       "    }\n",
       "\n",
       "    .dataframe thead th {\n",
       "        text-align: right;\n",
       "    }\n",
       "</style>\n",
       "<table border=\"1\" class=\"dataframe\">\n",
       "  <thead>\n",
       "    <tr style=\"text-align: right;\">\n",
       "      <th></th>\n",
       "      <th>Pregnancies</th>\n",
       "      <th>Glucose</th>\n",
       "      <th>BloodPressure</th>\n",
       "      <th>SkinThickness</th>\n",
       "      <th>Insulin</th>\n",
       "      <th>BMI</th>\n",
       "      <th>DiabetesPedigreeFunction</th>\n",
       "      <th>Age</th>\n",
       "      <th>Outcome</th>\n",
       "    </tr>\n",
       "  </thead>\n",
       "  <tbody>\n",
       "    <tr>\n",
       "      <th>0</th>\n",
       "      <td>6</td>\n",
       "      <td>148</td>\n",
       "      <td>72</td>\n",
       "      <td>35</td>\n",
       "      <td>0</td>\n",
       "      <td>33.6</td>\n",
       "      <td>0.627</td>\n",
       "      <td>50</td>\n",
       "      <td>1</td>\n",
       "    </tr>\n",
       "    <tr>\n",
       "      <th>1</th>\n",
       "      <td>1</td>\n",
       "      <td>85</td>\n",
       "      <td>66</td>\n",
       "      <td>29</td>\n",
       "      <td>0</td>\n",
       "      <td>26.6</td>\n",
       "      <td>0.351</td>\n",
       "      <td>31</td>\n",
       "      <td>0</td>\n",
       "    </tr>\n",
       "    <tr>\n",
       "      <th>2</th>\n",
       "      <td>8</td>\n",
       "      <td>183</td>\n",
       "      <td>64</td>\n",
       "      <td>0</td>\n",
       "      <td>0</td>\n",
       "      <td>23.3</td>\n",
       "      <td>0.672</td>\n",
       "      <td>32</td>\n",
       "      <td>1</td>\n",
       "    </tr>\n",
       "    <tr>\n",
       "      <th>3</th>\n",
       "      <td>1</td>\n",
       "      <td>89</td>\n",
       "      <td>66</td>\n",
       "      <td>23</td>\n",
       "      <td>94</td>\n",
       "      <td>28.1</td>\n",
       "      <td>0.167</td>\n",
       "      <td>21</td>\n",
       "      <td>0</td>\n",
       "    </tr>\n",
       "    <tr>\n",
       "      <th>4</th>\n",
       "      <td>0</td>\n",
       "      <td>137</td>\n",
       "      <td>40</td>\n",
       "      <td>35</td>\n",
       "      <td>168</td>\n",
       "      <td>43.1</td>\n",
       "      <td>2.288</td>\n",
       "      <td>33</td>\n",
       "      <td>1</td>\n",
       "    </tr>\n",
       "  </tbody>\n",
       "</table>\n",
       "</div>"
      ]
     },
     "execution_count": 3,
     "metadata": {},
     "output_type": "execute_result"
    }
   ],
   "execution_count": 3,
   "source": [
    "import pandas as pd\n",
    "from sklearn.model_selection import train_test_split\n",
    "\n",
    "df = pd.read_csv(\"data/diabetes.csv\")\n",
    "df.head()"
   ],
   "id": "fa04c53fc75f9d4b"
  },
  {
   "metadata": {},
   "cell_type": "markdown",
   "source": "## Data Preprocessing",
   "id": "9f8ed1b884dd8622"
  },
  {
   "metadata": {},
   "cell_type": "code",
   "outputs": [],
   "execution_count": null,
   "source": "",
   "id": "482bf0f2460c545d"
  },
  {
   "metadata": {},
   "cell_type": "markdown",
   "source": "## Data Analysis and Visualization",
   "id": "743e3ab4f95b0d5e"
  },
  {
   "metadata": {
    "ExecuteTime": {
     "end_time": "2025-04-30T15:10:23.673027Z",
     "start_time": "2025-04-30T15:10:22.746777Z"
    }
   },
   "cell_type": "code",
   "source": [
    "import matplotlib.pyplot as plt\n",
    "import numpy as np\n",
    "\n",
    "x = np.array(sorted_df['Variable'])\n",
    "y = np.array(sorted_df['P-value'])\n",
    "\n",
    "f = plt.figure()\n",
    "f.set_figwidth(15)\n",
    "\n",
    "plt.xlabel('variable')\n",
    "plt.ylabel('p-value')\n",
    "\n",
    "plt.scatter(x, y)\n",
    "plt.hlines(y=0.05, xmin=0, xmax=7, linewidth=2, color='r')\n",
    "plt.show()"
   ],
   "id": "db7b429b60358ac1",
   "outputs": [
    {
     "data": {
      "text/plain": [
       "<Figure size 1500x480 with 1 Axes>"
      ],
      "image/png": "[encoded data removed]"
     },
     "metadata": {},
     "output_type": "display_data"
    }
   ],
   "execution_count": 2
  },
  {
   "metadata": {},
   "cell_type": "code",
   "outputs": [],
   "execution_count": null,
   "source": "",
   "id": "3bccb399b801c563"
  },
  {
   "metadata": {},
   "cell_type": "markdown",
   "source": "## Data Modeling and Prediction",
   "id": "b4f5761cb2317596"
  },
  {
   "metadata": {},
   "cell_type": "markdown",
   "source": "",
   "id": "f8e0f74ef0293050"
  },
  {
   "metadata": {},
   "cell_type": "markdown",
   "source": "## Results Analysis",
   "id": "68c5a7f52823dcf7"
  },
  {
   "metadata": {},
   "cell_type": "markdown",
   "source": "",
   "id": "d139ef6a5b7e33e5"
  },
  {
   "metadata": {},
   "cell_type": "markdown",
   "source": "",
   "id": "4f463d4a4bea0a29"
  }
 ],
 "metadata": {
  "kernelspec": {
   "display_name": "Python 3",
   "language": "python",
   "name": "python3"
  },
  "language_info": {
   "codemirror_mode": {
    "name": "ipython",
    "version": 2
   },
   "file_extension": ".py",
   "mimetype": "text/x-python",
   "name": "python",
   "nbconvert_exporter": "python",
   "pygments_lexer": "ipython2",
   "version": "2.7.6"
  }
 },
 "nbformat": 4,
 "nbformat_minor": 5
}
