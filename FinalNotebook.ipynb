{
 "cells": [
  {
   "metadata": {},
   "cell_type": "markdown",
   "source": "# Diabetes Prediction CSC 2621 Final Project\n",
   "id": "b029dee6c2dd0818"
  },
  {
   "metadata": {},
   "cell_type": "markdown",
   "source": [
    "### Group Members:\n",
    "###### Oliver Grudzinski\n",
    "###### Pranaav Paladugu\n",
    "###### Alec Weinbender"
   ],
   "id": "cf0b69a81270bf49"
  },
  {
   "metadata": {},
   "cell_type": "markdown",
   "source": "## Research Question",
   "id": "b65b9be198b0e6c5"
  },
  {
   "metadata": {},
   "cell_type": "code",
   "outputs": [],
   "execution_count": null,
   "source": "For this project the problems that we",
   "id": "c96d8152a0117ae5"
  },
  {
   "metadata": {},
   "cell_type": "markdown",
   "source": "## Hypotheses",
   "id": "2888517905b74cc9"
  },
  {
   "metadata": {},
   "cell_type": "code",
   "outputs": [],
   "execution_count": null,
   "source": "",
   "id": "c08918551335ebe6"
  },
  {
   "metadata": {},
   "cell_type": "markdown",
   "source": "## Dataset",
   "id": "fc1dcab55b125cf"
  },
  {
   "metadata": {},
   "cell_type": "markdown",
   "source": "",
   "id": "13933391c0344424"
  },
  {
   "metadata": {},
   "cell_type": "code",
   "outputs": [],
   "execution_count": null,
   "source": "",
   "id": "94cbd1b4dd072423"
  },
  {
   "metadata": {},
   "cell_type": "code",
   "outputs": [],
   "execution_count": null,
   "source": "",
   "id": "aa910dd88fabe356"
  },
  {
   "metadata": {},
   "cell_type": "markdown",
   "source": "## Data Analysis and Visualization",
   "id": "743e3ab4f95b0d5e"
  },
  {
   "metadata": {},
   "cell_type": "code",
   "outputs": [],
   "execution_count": null,
   "source": "",
   "id": "b7fb6a3ee337cbbd"
  },
  {
   "metadata": {},
   "cell_type": "code",
   "outputs": [],
   "execution_count": null,
   "source": "",
   "id": "613b40e5e558d210"
  },
  {
   "metadata": {},
   "cell_type": "code",
   "outputs": [],
   "execution_count": null,
   "source": "",
   "id": "68c105238519b9eb"
  },
  {
   "metadata": {},
   "cell_type": "markdown",
   "source": "## Data Modeling and Prediction",
   "id": "b4f5761cb2317596"
  },
  {
   "metadata": {},
   "cell_type": "markdown",
   "source": "",
   "id": "f8e0f74ef0293050"
  },
  {
   "metadata": {},
   "cell_type": "markdown",
   "source": "## Results Analysis",
   "id": "68c5a7f52823dcf7"
  },
  {
   "metadata": {},
   "cell_type": "markdown",
   "source": "",
   "id": "d139ef6a5b7e33e5"
  },
  {
   "metadata": {},
   "cell_type": "markdown",
   "source": "",
   "id": "4f463d4a4bea0a29"
  }
 ],
 "metadata": {
  "kernelspec": {
   "display_name": "Python 3",
   "language": "python",
   "name": "python3"
  },
  "language_info": {
   "codemirror_mode": {
    "name": "ipython",
    "version": 2
   },
   "file_extension": ".py",
   "mimetype": "text/x-python",
   "name": "python",
   "nbconvert_exporter": "python",
   "pygments_lexer": "ipython2",
   "version": "2.7.6"
  }
 },
 "nbformat": 4,
 "nbformat_minor": 5
}
